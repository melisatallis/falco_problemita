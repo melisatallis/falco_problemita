{
 "cells": [
  {
   "cell_type": "code",
   "execution_count": 1,
   "metadata": {},
   "outputs": [],
   "source": [
    "class Entry:\n",
    "    \"\"\"\n",
    "    Entry class.\n",
    "    Properties of input string.\n",
    "    Method that checks for parenthesis errors.\n",
    "    \"\"\"\n",
    "\n",
    "    # Global properties:\n",
    "\t#   string:         input string\n",
    "\t#   list:           list of characters in string\n",
    "\t#   len:            length of characters \n",
    "\t#   char_values:    list of tuples (character, character value)\n",
    "\n",
    "    def __init__(self, string):\n",
    "        \"\"\"Constructs an entry object.\"\"\"\n",
    "        self.string = string\n",
    "        self.list = list(string)\n",
    "        self.len = len(self.list)\n",
    "        self.char_values = self.set_char_values()\n",
    "        return\n",
    "\n",
    "    def char_value(self, char):\n",
    "        \"\"\"Outputs a value for character.\"\"\"\n",
    "        # Internal function\n",
    "        if char == \"(\":\n",
    "            value = 1\n",
    "        elif char == \")\":\n",
    "            value = -1\n",
    "        else:\n",
    "            value = 0\n",
    "        return value\n",
    "\n",
    "    def set_char_values(self):\n",
    "        \"\"\"\n",
    "        Outputs a list of possible tupples:\n",
    "            (char, value) = (\"(\",1), (\"(\",-1), or (other char, 0)\n",
    "        \"\"\"\n",
    "        values = []\n",
    "        for char in self.list: \n",
    "            values.append((char, self.char_value(char)))\n",
    "        return values\n",
    "\n",
    "    def check_parenthesis(self):\n",
    "        \"\"\"\n",
    "        Checks for hanging parenthesis by calculating the total value of the string.\n",
    "        \"\"\"\n",
    "        i = 0\n",
    "        total_value = 0 \n",
    "        while (i < self.len) & (total_value >= 0):\n",
    "            total_value += self.char_values[i][1]\n",
    "            i += 1\n",
    "        if i < self.len:\n",
    "            output = \"Error: parenthesis closed without opening at position: \" + str(i-1)\n",
    "        elif total_value != 0:\n",
    "            output = \"Error: parenthesis not closed\"\n",
    "        else:\n",
    "            output = \"No parenthesis errors found\"\n",
    "        return output\n"
   ]
  },
  {
   "cell_type": "code",
   "execution_count": 3,
   "metadata": {},
   "outputs": [
    {
     "data": {
      "text/plain": [
       "'Error: parenthesis closed without opening at position: 29'"
      ]
     },
     "execution_count": 3,
     "metadata": {},
     "output_type": "execute_result"
    }
   ],
   "source": [
    "my_string = Entry(\"((fika)dhdhdh)(hah())(hahash))(jjjaskdk)\")\n",
    "my_string.check_parenthesis()"
   ]
  },
  {
   "cell_type": "code",
   "execution_count": null,
   "metadata": {},
   "outputs": [],
   "source": []
  }
 ],
 "metadata": {
  "interpreter": {
   "hash": "398dc28c06ad810e77de546bbdfa897a6ee0b83e59a5207339dda01a7843e01d"
  },
  "kernelspec": {
   "display_name": "Python 3.6.5 64-bit ('base': conda)",
   "name": "python3"
  },
  "language_info": {
   "codemirror_mode": {
    "name": "ipython",
    "version": 3
   },
   "file_extension": ".py",
   "mimetype": "text/x-python",
   "name": "python",
   "nbconvert_exporter": "python",
   "pygments_lexer": "ipython3",
   "version": "3.6.5"
  },
  "orig_nbformat": 4
 },
 "nbformat": 4,
 "nbformat_minor": 2
}
