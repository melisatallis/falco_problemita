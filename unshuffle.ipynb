{
 "cells": [
  {
   "cell_type": "markdown",
   "metadata": {},
   "source": [
    "# Unshuffle a sequence of frames \n",
    "\n",
    "This notebook is intended to xx. \n",
    "\n",
    "1. Preperation of the data for analysis\n",
    "2. Analysis code \n",
    "3. Testing and validation\n"
   ]
  },
  {
   "cell_type": "code",
   "execution_count": 35,
   "metadata": {},
   "outputs": [],
   "source": [
    "import matplotlib.pyplot as plt\n",
    "import numpy as np\n",
    "from PIL import Image, ImageSequence\n",
    "\n",
    "%matplotlib inline"
   ]
  },
  {
   "cell_type": "markdown",
   "metadata": {},
   "source": [
    "## Load and display sequences \n",
    "This is meant to prepare the data for the analysis. This includes loading in the movie, shuffling and then displaying them. \n",
    "\n"
   ]
  },
  {
   "cell_type": "code",
   "execution_count": 59,
   "metadata": {},
   "outputs": [],
   "source": [
    "gif = load_gif_and_shuffle(filename)"
   ]
  },
  {
   "cell_type": "code",
   "execution_count": 58,
   "metadata": {},
   "outputs": [],
   "source": [
    "def shuffle(sequence, seed_value=42):\n",
    "    \"\"\"Randomly shuffle a sequence of numbers.\"\"\"\n",
    "    np.random.seed(seed_value)\n",
    "    return list(np.random.permutation(sequence))\n",
    "\n",
    "def load_gif(filename):\n",
    "    \"\"\"Load a sequence of images (for now in GIF format) and return an array.\"\"\"\n",
    "    output = {}\n",
    "    gif = Image.open(filename)\n",
    "    for i, frame in enumerate(ImageSequence.Iterator(gif)):\n",
    "        output[i] = np.array(frame.convert(\"RGB\"))\n",
    "        #print(\"Saved image: {}\".format(i)) \n",
    "    return output\n",
    "\n",
    "def load_gif_and_shuffle(filename, frame0=True):\n",
    "    \n",
    "    output = {}\n",
    "    gif = load_gif(filename)\n",
    "    k = list(gif.keys())\n",
    "    \n",
    "    if frame0:\n",
    "        new_k = [0] + shuffle(k[1:])\n",
    "    else:\n",
    "        new_k = shuffle(k)\n",
    "    for i,k in enumerate(new_k):\n",
    "        output[i]=gif[k]\n",
    "    return output\n",
    "\n",
    "def display_sequence(sequence): \n",
    "    \"\"\"Display sequence\"\"\"\n",
    "\n",
    "# Load the data:\n",
    "filename = \"/Users/melisatallis/Documents/Github/falco_problemita/data/race_horse.gif\"\n",
    "# Make a copy of the gif in case it is overwritten"
   ]
  },
  {
   "cell_type": "code",
   "execution_count": null,
   "metadata": {},
   "outputs": [],
   "source": [
    "sequence = load_gif(filename)"
   ]
  },
  {
   "cell_type": "markdown",
   "metadata": {},
   "source": [
    "**Figure:** An example that has been shuffled for this analysis. "
   ]
  },
  {
   "cell_type": "markdown",
   "metadata": {},
   "source": [
    "## Next, compare images of sequence\n",
    "An interesting question is how do we compare frames without caring about the content inside of each frame. Is there a way to rank the similarity between two images.  "
   ]
  },
  {
   "cell_type": "code",
   "execution_count": null,
   "metadata": {},
   "outputs": [],
   "source": []
  },
  {
   "cell_type": "markdown",
   "metadata": {},
   "source": [
    "## Calculating similarity\n",
    "\n",
    "To speed up the analysis, we start by comparing images for a single color channel. \n",
    "\n",
    "Afterwards, we repeat the analysis on the remaining channels. We´ll end up with three new sequences, ordered using information from their corresponding channel. \n"
   ]
  },
  {
   "cell_type": "code",
   "execution_count": null,
   "metadata": {},
   "outputs": [],
   "source": [
    "new_sequence = {} # keys: r,b,g\n",
    "for i in sequence:\n",
    "    print()"
   ]
  },
  {
   "cell_type": "code",
   "execution_count": null,
   "metadata": {},
   "outputs": [],
   "source": []
  },
  {
   "cell_type": "code",
   "execution_count": null,
   "metadata": {},
   "outputs": [],
   "source": [
    "def ssm(arr):\n",
    "    return \n",
    "\n"
   ]
  },
  {
   "cell_type": "code",
   "execution_count": null,
   "metadata": {},
   "outputs": [],
   "source": [
    "for "
   ]
  },
  {
   "cell_type": "markdown",
   "metadata": {},
   "source": []
  }
 ],
 "metadata": {
  "interpreter": {
   "hash": "398dc28c06ad810e77de546bbdfa897a6ee0b83e59a5207339dda01a7843e01d"
  },
  "kernelspec": {
   "display_name": "Python 3.6.5 64-bit ('base': conda)",
   "name": "python3"
  },
  "language_info": {
   "codemirror_mode": {
    "name": "ipython",
    "version": 3
   },
   "file_extension": ".py",
   "mimetype": "text/x-python",
   "name": "python",
   "nbconvert_exporter": "python",
   "pygments_lexer": "ipython3",
   "version": "3.6.5"
  },
  "orig_nbformat": 4
 },
 "nbformat": 4,
 "nbformat_minor": 2
}
