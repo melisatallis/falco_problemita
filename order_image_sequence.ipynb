{
 "cells": [
  {
   "cell_type": "markdown",
   "metadata": {},
   "source": [
    "# Ordering image sequences\n",
    "In this notebook, we obtain an image sequence from a gif, unorder it, and then attempt to recover its order sequence. We then compare the recovered image sequence with the ordered image sequence. "
   ]
  },
  {
   "cell_type": "markdown",
   "metadata": {},
   "source": [
    "## Obtain image sequence \n",
    "This cell only needs to be run once for each gif. In order to compare image sequences, each image is saved in the following format:\n",
    "> `frame_.png`\n"
   ]
  },
  {
   "cell_type": "code",
   "execution_count": null,
   "metadata": {},
   "outputs": [],
   "source": [
    "from PIL import Image, ImageSequence\n",
    "\n",
    "# Implement similar to below:\n",
    "# https://stackoverflow.com/questions/753190/programmatically-generate-video-or-animated-gif-in-python\n",
    "# image credit: https://www.pinterest.com.au/amp/pin/crash-bandicoot-gif--325385141804483015/\n",
    "# Create directory with gifs and also make it create a directory when we load the gif data \n",
    "\n",
    "with Image.open(\"./data/homer.gif\") as gif:\n",
    "    index = 1\n",
    "    for frame in ImageSequence.Iterator(gif):\n",
    "        frame.save(f\"frame_{index}.png\")\n",
    "        index += 1"
   ]
  },
  {
   "cell_type": "markdown",
   "metadata": {},
   "source": [
    "## Load and display image sequence\n",
    "All of the images made from the gif are stored in ``data_folder``. The image data, along with an image label gets stored in a dictionary for each image. The key value (int) used to access these items represents the image position inside the image sequence. We generate unordered image sequences by randomly shuffling their key values. Specifying the seed allows us to repeat the experiment with the same set of unordered images. \n",
    "\n",
    "The black and white images plotted by this cell are obtained from an example gif. Each row displays a subset of the image sequence (think of it as a movie tape) and is labeled with its corresponding image position.  \n",
    " \n",
    "\n"
   ]
  },
  {
   "cell_type": "code",
   "execution_count": null,
   "metadata": {},
   "outputs": [],
   "source": [
    "import matplotlib.pyplot as plt\n",
    "import matplotlib\n",
    "from PIL import Image\n",
    "import numpy as np\n",
    "import os\n",
    "\n",
    "matplotlib.rc(\"image\", cmap='gray')\n",
    "%matplotlib inline\n",
    "\n",
    "def load_image(filename, greyscale = True):\n",
    "    \"\"\"Load an image and save it as an NxM array.\"\"\"\n",
    "    if greyscale:\n",
    "        img = Image.open(filename).convert(\"L\")\n",
    "    else:\n",
    "        img = Image.open(filename).convert(\"RGB\")\n",
    "    return np.array(img)\n",
    "\n",
    "def load_sequence(folder):\n",
    "    \"\"\"Load sequence of images (.png) in data folder and store them in a dictionary.\"\"\"\n",
    "    output = {} # keys: i (found in image filename)\n",
    "    for f in os.listdir(folder):\n",
    "        if f.endswith(\".png\"):\n",
    "            label = int(f[6:-4])\n",
    "            output[label]= {\"label\":label,\n",
    "                            \"data\": load_image(os.path.join(folder,f))}\n",
    "    return output\n",
    "\n",
    "def shuffle(sequence, seed_value=2021):\n",
    "    \"\"\"Randomly shuffle a sequence of numbers.\"\"\"\n",
    "    np.random.seed(seed_value)\n",
    "    return np.random.permutation(sequence)\n",
    "\n",
    "def load_sequence_and_shuffle(folder, frame1_fixed = True):\n",
    "    \"\"\"Load an ordered sequence of frames (dictionary) and return a shuffled version (dictionary).\"\"\"\n",
    "    # Need to have an error for number of frames mismatch\n",
    "    output = {} # keys: i \n",
    "    seq = load_sequence(folder)\n",
    "    n = len(seq)\n",
    "    iseq = list(range(1,n+1))\n",
    "    \n",
    "    if frame1_fixed:\n",
    "        print(\"Now shuffling all frames, except for frame1.\")\n",
    "        new_iseq = shuffle(range(2,n+1))\n",
    "        new_iseq = [1,*new_iseq]\n",
    "    else:\n",
    "        print(\"Now shuffling all frames.\")\n",
    "        new_iseq = shuffle(iseq)\n",
    "    for i, k in zip(iseq, new_iseq):\n",
    "        print(f\"Moving image{i} -> position {k}\") \n",
    "        output[i] = seq[k]\n",
    "    return output\n",
    "\n",
    "def imshow_image(ax, image):\n",
    "    \"\"\"\n",
    "    Displays image in the axes.\n",
    "    ax: a matplotlib Axes instance into which we plot.\n",
    "    image: NxM array that we are displaying.\n",
    "    \"\"\"\n",
    "    ax.imshow(image)\n",
    "    ax.xaxis.set_visible(False)\n",
    "    ax.yaxis.set_visible(False)        \n",
    "\n",
    "# Load the data:\n",
    "data_folder = \"./data/mario_kart/\"\n",
    "#data_folder = \"./data/homer/\"\n",
    "sequence = load_sequence(data_folder)\n",
    "shuffled_sequence = load_sequence_and_shuffle(data_folder)"
   ]
  },
  {
   "cell_type": "code",
   "execution_count": null,
   "metadata": {},
   "outputs": [],
   "source": [
    "def imshow_sequence(sequence, title = \" \", nimages=5):\n",
    "    \"\"\"\n",
    "    Displays a subset of the image sequence as a film strip.\n",
    "    \n",
    "    sequence: dictionary of image sequence\n",
    "    title: \" \" (default) to add a sequence title.\n",
    "    nimages: 5 (default) will display the fisrt 5 images in the sequence. \n",
    "\n",
    "    returns:\n",
    "    A figure and a set of subplots.\n",
    "    \"\"\"\n",
    "    if nimages > len(sequence):\n",
    "        nimages = len(sequence)\n",
    "    f, ax = plt.subplots(1,nimages,figsize=(12,3),tight_layout=True)\n",
    "    f.suptitle(title, fontsize=20)\n",
    "    for i,k in enumerate(range(1,nimages+1)):  \n",
    "        label = sequence[k][\"label\"]\n",
    "        imshow_image(ax[i], sequence[k][\"data\"])\n",
    "        ax[i].set_title(f\"Image {label}\")\n",
    "    return f, ax\n",
    "\n",
    "titles = [\"Ordered sequence\", \"Shuffled sequence\"]\n",
    "for i,seq in enumerate([sequence, shuffled_sequence]):\n",
    "    f, ax = imshow_sequence(seq, titles[i])\n",
    "\n",
    "f.savefig(\"./figures/filmstrip.pdf\")\n"
   ]
  },
  {
   "cell_type": "markdown",
   "metadata": {},
   "source": [
    "**Figure:** An example image sequence that has been shuffled for this analysis. "
   ]
  },
  {
   "cell_type": "markdown",
   "metadata": {},
   "source": [
    "## Comparing images\n",
    "Assuming that we are focusing on dynamic scenes, we need to identify a quantity that accumulates/decays with time. I decided that the simplest way to compare two images is by computing the difference at every corresponding pixel of the two images and then counting the total number of zeros. Specifically, the two images with the most zeros are probably adjacent to eachother. \n",
    "\n",
    "In this cell, we show that the number of zeros decreases as you move further away in time from the reference image.  \n"
   ]
  },
  {
   "cell_type": "code",
   "execution_count": null,
   "metadata": {},
   "outputs": [],
   "source": [
    "\n",
    "def imshow_image_difference(reference_image, test_image, titles):\n",
    "    f, ax = plt.subplots(1, 3, figsize=(12,4))\n",
    "    imshow_image(ax[0],reference_image)\n",
    "    imshow_image(ax[1],test_image)\n",
    "    imshow_image(ax[2],np.subtract(test_image,reference_image))\n",
    "    for i,k in enumerate(titles):\n",
    "        ax[i].set_title(f\"Image {k}\")\n",
    "    return f, ax\n",
    "\n",
    "def count_zeros(reference_image, test_image):\n",
    "    \"\"\"Computes the difference between two images and returns the number of zeros pixels.\"\"\"\n",
    "    diff = np.subtract(test_image, reference_image)\n",
    "    return sum(diff.flatten()==0)\n",
    "\n",
    "n = len(sequence)\n",
    "iref = 1\n",
    "for i in range(1,6):\n",
    "    f, ax = imshow_image_difference(sequence[iref][\"data\"], sequence[i][\"data\"], titles = (iref, i,\"difference\"))\n",
    "    n_zeros = count_zeros(sequence[iref][\"data\"], sequence[i][\"data\"])\n",
    "    print(f\"Counted {n_zeros} zeros for difference between frame{i} and frame1\")\n",
    "\n",
    "f.savefig(\"./figures/differences.pdf\")"
   ]
  },
  {
   "cell_type": "markdown",
   "metadata": {},
   "source": [
    "**Figure:** In the first and second column we display the reference and test image, respectively. Then in the third column we show the difference of these two frames.  "
   ]
  },
  {
   "cell_type": "markdown",
   "metadata": {},
   "source": [
    "## Next, order the sequence\n",
    "We repeat the following steps for each image in the shuffled sequence:\n",
    "1. Pick a reference image.\n",
    "2. Compare the reference image with the remaining images of the input sequence. \n",
    "3. Identify the image that results in the most zeros after being subtracted from the reference image. \n",
    "4. Add it to the new output sequence.\n",
    "5. Remove this image from the input sequence.\n",
    "Then repeat steps (1-5) until the input sequence is empty. \n"
   ]
  },
  {
   "cell_type": "code",
   "execution_count": null,
   "metadata": {},
   "outputs": [],
   "source": [
    "shuffled_sequence_copy = shuffled_sequence.copy()\n",
    "\n",
    "def adjacent_image_index(sequence, reference_image):\n",
    "    iseq=[*sequence]\n",
    "    n_zeros = [count_zeros(reference_image, sequence[i][\"data\"]) for i in iseq]\n",
    "    return iseq[np.argmax(n_zeros)]\n",
    "    \n",
    "def order_sequence(sequence, frame1fixed = True):\n",
    "    \"\"\"Attempts to order a sequence of images that have been randomly shuffled.\"\"\"\n",
    "    output = {} # keys: i \n",
    "    iin = 1    # used for indexing the input sequence \n",
    "    iout = 1   # used for indexing the output sequence\n",
    "    ordered_frames = []  # used only for printing \n",
    "\n",
    "    if frame1fixed:\n",
    "        print(\"Frame1 was fixed.\")\n",
    "        print(f\"Inserting frame{iin} into the output sequence & removing frame{iin} from the input sequence.\")\n",
    "        ordered_frames.append(iin)\n",
    "        output[iout] = sequence[iin]\n",
    "        sequence.pop(iin, None)\n",
    "        print(f\"Input sequence: \", [*sequence])\n",
    "        print(f\"Output sequence: \", ordered_frames)\n",
    "        print(\" \")\n",
    "    else:\n",
    "        print(\"This feature doesn´t exist yet. :'(\")\n",
    "        return None\n",
    "  \n",
    "    while len(sequence) > 0:\n",
    "        print(f\"Comparing frame{iin} with frames:\",[*sequence])\n",
    "        reference_image = output[iout][\"data\"]\n",
    "        iin = adjacent_image_index(sequence, reference_image)\n",
    "        print(f\"Identified frame{iin} as the most similar frame.\")\n",
    "        print(f\"Inserting frame{iin} into the output sequence & removing frame{iin} from the input sequence.\")\n",
    "        iout += 1\n",
    "        ordered_frames.append(iin)\n",
    "        output[iout] = sequence[iin]\n",
    "        sequence.pop(iin, None)\n",
    "        print(f\"Input sequence:\",[*sequence])\n",
    "        print(f\"Output sequence:\", ordered_frames)\n",
    "        print(\" \")\n",
    "    \n",
    "    return output\n",
    "            \n",
    "my_sequence = order_sequence(shuffled_sequence_copy, frame1fixed=True)"
   ]
  },
  {
   "cell_type": "markdown",
   "metadata": {},
   "source": [
    "## Analysis results\n",
    "The guessed values for the image positions get compared to the actual image positions that got stored in the image label. We then store the following quantities in a score dictionary:\n",
    "- A percent of images that were sequenced correctly.\n",
    "- How far away each image was placed from its true position.\n",
    "\n",
    "The code below plots the true sequence order with the guessed sequence order .Ideally, the points should all fall on the line y = x. Results look promising for now. \n"
   ]
  },
  {
   "cell_type": "code",
   "execution_count": null,
   "metadata": {},
   "outputs": [],
   "source": [
    "def compare_sequence_order(list1, list2):\n",
    "    \"\"\"Returns both the number of matched and mismatched elements between two lists.\"\"\"\n",
    "    result = [i == k for i,k in zip(list1,list2)]\n",
    "    return (result.count(True), result.count(False))\n",
    "\n",
    "def score_my_sequence(sequence):\n",
    "    \"\"\"Takes a test sequence and calculates its order accuracy.\"\"\"\n",
    "    keys = [\"sequence length\",\"good\",\"bad\",\"order accuracy\",\"order distance\",\"total order distance\"]\n",
    "    score = {key:None for key in keys}     \n",
    "    n = len(sequence)\n",
    "    guessed_sequence_order = np.arange(1,n+1)\n",
    "    actual_sequence_order = np.array([sequence[i][\"label\"] for i in guessed_sequence_order])    #Taken from the image filename\n",
    "    ngood, nbad = compare_sequence_order(guessed_sequence_order, actual_sequence_order)\n",
    "    score[\"sequence length\"] = n\n",
    "    score[\"good\"] = ngood\n",
    "    score[\"bad\"] = nbad\n",
    "    score[\"order accuracy\"] = ngood/n * 100.0\n",
    "    score[\"image order distance\"] = np.abs(guessed_sequence_order-actual_sequence_order)\n",
    "    score[\"total_order distance\"] = np.sum(np.abs(guessed_sequence_order-actual_sequence_order))\n",
    "    return score\n",
    "\n",
    "def plot_sequence_order(sequence):\n",
    "    \"\"\"Takes a test sequence and plots the guessed image positions vs. actual image positions.\"\"\"\n",
    "    n = len(sequence)\n",
    "    guessed_sequence_order = np.arange(1,n+1)\n",
    "    actual_sequence_order = np.array([sequence[i][\"label\"] for i in guessed_sequence_order])\n",
    "    f = plt.figure(figsize=(7,5))\n",
    "    plt.plot(actual_sequence_order, actual_sequence_order, \"red\")\n",
    "    plt.scatter(x = guessed_sequence_order, y = actual_sequence_order, )\n",
    "    plt.xticks(np.arange(0,n+2), fontsize=12)\n",
    "    plt.yticks(np.arange(0,n+2), fontsize=12)\n",
    "    plt.ylabel(\"Actual sequence order\", fontsize=20, labelpad=15)\n",
    "    plt.xlabel(\"Guessed sequence order\", fontsize=20, labelpad=15)\n",
    "    plt.grid()\n",
    "\n",
    "    return f\n",
    "\n",
    "my_score = score_my_sequence(my_sequence)\n",
    "f = plot_sequence_order(my_sequence)\n",
    "\n",
    "f.savefig(\"./figures/results.pdf\")"
   ]
  },
  {
   "cell_type": "markdown",
   "metadata": {},
   "source": [
    "**Figure:** Here we display our guessed sequence order with the actual sequence order. The red straight line labels the ideal case. "
   ]
  },
  {
   "cell_type": "markdown",
   "metadata": {},
   "source": [
    "Looking more closeley at the homer gif, it shows that our assumption isn´t always correct. For example, it found that image 21 was more similar to image 19 than image 20. Thus this algorithm fails to distinguish between two very similar images. "
   ]
  },
  {
   "cell_type": "code",
   "execution_count": null,
   "metadata": {},
   "outputs": [],
   "source": [
    "my_score\n",
    "imshow_image_difference(my_sequence[20][\"data\"], my_sequence[19][\"data\"])\n",
    "count_zeros(sequence[20][\"data\"],sequence[19][\"data\"])\n"
   ]
  },
  {
   "cell_type": "code",
   "execution_count": null,
   "metadata": {},
   "outputs": [],
   "source": [
    "imshow_image_difference(my_sequence[21][\"data\"], my_sequence[19][\"data\"])\n",
    "count_zeros(sequence[21][\"data\"], sequence[19][\"data\"])"
   ]
  },
  {
   "cell_type": "markdown",
   "metadata": {},
   "source": [
    "## If I had more time...\n",
    "I would take one of either two directions: \n",
    "- Try out other image similarty metrics, such as eclidean distance or cosine similarity. \n",
    "- Attempt analyzing the RGB channel information.  "
   ]
  },
  {
   "cell_type": "code",
   "execution_count": null,
   "metadata": {},
   "outputs": [],
   "source": [
    "import itertools\n",
    "\n",
    "def all_nzeros_in_sequence(sequence, nimages = 5 ,unique = True):\n",
    "    dict_nzeros = {}\n",
    "    if nimages > len(sequence):\n",
    "        nimages = len(sequence)\n",
    "    iseq = list(range(1,nimages+1))\n",
    "\n",
    "    if unique:\n",
    "        pairs = list(itertools.permutations(iseq, 2)) # All possible combinations \n",
    "    else:\n",
    "        pairs = list(itertools.combinations(iseq, 2)) # Only unique combinations \n",
    "    for i in pairs:\n",
    "        print(f\"Subtracting frame{i[1]} from frame{i[0]} and counting zero pixels.\")\n",
    "        reference_image = shuffled_sequence[i[0]][\"data\"]\n",
    "        test_image = shuffled_sequence[i[1]][\"data\"]\n",
    "        dict_nzeros[i] = count_zeros(reference_image, test_image)\n",
    "    return dict_nzeros\n",
    "\n",
    "dict_nzeros = all_nzeros_in_sequence(shuffled_sequence)"
   ]
  },
  {
   "cell_type": "code",
   "execution_count": null,
   "metadata": {},
   "outputs": [],
   "source": [
    "import pandas as pd\n",
    "import seaborn as sb   \n",
    "\n",
    "def plot_heat_map(dictionary):\n",
    "    ser = pd.Series(list(dictionary.values()),\n",
    "                  index=pd.MultiIndex.from_tuples(dictionary.keys()))\n",
    "\n",
    "    df = ser.unstack().fillna(0)\n",
    "    sb.heatmap(df,annot=True)\n",
    "\n",
    "plot_heat_map(dict_nzeros)\n",
    "    "
   ]
  },
  {
   "cell_type": "markdown",
   "metadata": {},
   "source": [
    "**Figure:** A heat map can be used to visualize a larger dataset. "
   ]
  },
  {
   "cell_type": "code",
   "execution_count": null,
   "metadata": {},
   "outputs": [],
   "source": [
    "import scipy.spatial.distance as dist \n",
    "\n",
    "# Other distance metrics\n",
    "# https://stackoverflow.com/questions/1401712/how-can-the-euclidean-distance-be-calculated-with-numpy\n",
    "\n",
    "def euclidean(arr1, arr2):\n",
    "    return dist.euclidean(arr1, arr2)\n",
    "\n",
    "def sqeuclidean(arr1, arr2):\n",
    "    return dist.sqeuclidean(arr1, arr2)\n",
    "\n",
    "def correlation(arr1, arr2):\n",
    "    return dist.correlation(arr1, arr2)\n",
    "\n",
    "def cosine(arr1, arr2):\n",
    "    return dist.cosine(arr1, arr2)\n",
    "\n",
    "pixel_distance_functions = [euclidean, sqeuclidean, correlation, cosine]\n"
   ]
  },
  {
   "cell_type": "markdown",
   "metadata": {},
   "source": [
    "## To summarize\n",
    "Counting the number of zeros in the difference between two images is a great start for ordering a sequence of unordered images!\n",
    "\n"
   ]
  }
 ],
 "metadata": {
  "interpreter": {
   "hash": "398dc28c06ad810e77de546bbdfa897a6ee0b83e59a5207339dda01a7843e01d"
  },
  "kernelspec": {
   "display_name": "Python 3.6.5 64-bit ('base': conda)",
   "name": "python3"
  },
  "language_info": {
   "codemirror_mode": {
    "name": "ipython",
    "version": 3
   },
   "file_extension": ".py",
   "mimetype": "text/x-python",
   "name": "python",
   "nbconvert_exporter": "python",
   "pygments_lexer": "ipython3",
   "version": "3.6.5"
  },
  "orig_nbformat": 4
 },
 "nbformat": 4,
 "nbformat_minor": 2
}
